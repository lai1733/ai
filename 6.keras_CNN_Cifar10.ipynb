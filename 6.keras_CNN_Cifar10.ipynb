from tensorflow import keras
from keras.models import Sequential
from keras.layers import Dense, Conv2D, MaxPooling2D, Flatten

# 建立一個序列模型
model = Sequential()

# 添加卷積層：64個5x5的卷積核，輸入形狀為32x32x3的圖像，使用ReLU激活函數
model.add(Conv2D(filters=64, kernel_size=(5, 5), input_shape=(32, 32, 3), activation='relu'))

# 添加第二個卷積層，64個5x5的卷積核，使用ReLU激活函數
model.add(Conv2D(filters=64, kernel_size=(5, 5), activation='relu'))

# 添加最大池化層，池化大小為2x2
model.add(MaxPooling2D(pool_size=2))

# 添加第三個卷積層，128個5x5的卷積核，使用ReLU激活函數
model.add(Conv2D(filters=128, kernel_size=(5, 5), activation='relu'))

# 添加第四個卷積層，128個5x5的卷積核，使用ReLU激活函數
model.add(Conv2D(filters=128, kernel_size=(5, 5), activation='relu'))

# 添加第二個最大池化層，池化大小為2x2
model.add(MaxPooling2D(pool_size=2))

# 將多維輸出展平為一維
model.add(Flatten())

# 添加全連接層，輸出大小為10，使用softmax激活函數（用於多類別分類）
model.add(Dense(10, activation='softmax'))

# 顯示模型摘要
model.summary()

# 編譯模型，使用RMSprop優化器，損失函數為categorical_crossentropy，並跟踪準確率
model.compile(optimizer='rmsprop', loss='categorical_crossentropy', metrics=['accuracy'])

# 載入 CIFAR-10 數據集
cifar10 = keras.datasets.cifar10
(train_data, train_label), (test_data, test_label) = cifar10.load_data()

# 保存原始標籤，並將標籤轉換為獨熱編碼格式
train_label_original = train_label
train_label = keras.utils.to_categorical(train_label)
test_label = keras.utils.to_categorical(test_label)

# 繪製第一張訓練圖像及其標籤
import matplotlib.pyplot as plt
category = ['airplane', 'automobile', 'bird', 'cat', 'deer', 'dog', 'frog', 'horse', 'ship', 'truck']
plt.imshow(train_data[0])  # 繪製第一張圖像
plt.title(category[int(train_label_original[0])])  # 設定標題為圖像的類別
plt.show()

# 輸出第一張訓練圖像的原始標籤
print(train_label_original[0])  # 輸出標籤（如6）

# 訓練模型
train_history = model.fit(train_data, train_label, epochs=30, batch_size=512)

# 評估模型在測試集上的表現
score = model.evaluate(test_data, test_label)
print(score[1])  # 輸出測試準確率

# 繪製訓練過程中的準確率和損失歷史
import numpy as np

def show_train_history(train_history, train):
    plt.plot(train_history.history[train])  # 繪製準確率或損失
    plt.title('Train History')  # 標題
    plt.ylabel(train)  # Y軸標籤
    plt.xlabel('Epoch')  # X軸標籤
    plt.legend(['train'], loc='center right')  # 圖例
    plt.show()

show_train_history(train_history, 'accuracy')  # 繪製準確率歷史
show_train_history(train_history, 'loss')  # 繪製損失歷史

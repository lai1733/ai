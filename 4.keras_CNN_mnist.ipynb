from tensorflow import keras
from keras.models import Sequential
from keras.layers import Dense, Flatten

# 載入 MNIST 數據集
mnist = keras.datasets.mnist
(train_data, train_label), (test_data, test_label) = mnist.load_data()

# 輸出下載數據的進度
# Downloading data from https://storage.googleapis.com/tensorflow/tf-keras-datasets/mnist.npz

# 檢查訓練數據的類型及形狀
print(type(train_data))  # 輸出訓練數據的類型，應為 numpy.ndarray
print(train_data.shape)  # 輸出訓練數據的形狀，應為 (60000, 28, 28)
print(type(train_label))  # 輸出訓練標籤的類型，應為 numpy.ndarray
print(train_label.shape)  # 輸出訓練標籤的形狀，應為 (60000,)
print(test_data.shape)    # 輸出測試數據的形狀，應為 (10000, 28, 28)
print(test_label.shape)   # 輸出測試標籤的形狀，應為 (10000,)

# 檢查第一個訓練樣本的標籤及數據
print(train_label[0])  # 輸出第一個訓練樣本的標籤，例如 5
print(train_data[0])   # 輸出第一個訓練樣本的數據，為 28x28 的數字圖像
